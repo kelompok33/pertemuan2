{
  "nbformat": 4,
  "nbformat_minor": 0,
  "metadata": {
    "colab": {
      "provenance": [],
      "authorship_tag": "ABX9TyM0R0Y84s0shKSiC/pmQhyJ",
      "include_colab_link": true
    },
    "kernelspec": {
      "name": "python3",
      "display_name": "Python 3"
    },
    "language_info": {
      "name": "python"
    }
  },
  "cells": [
    {
      "cell_type": "markdown",
      "metadata": {
        "id": "view-in-github",
        "colab_type": "text"
      },
      "source": [
        "<a href=\"https://colab.research.google.com/github/kelompok33/pertemuan2/blob/main/pertemuan2.ipynb\" target=\"_parent\"><img src=\"https://colab.research.google.com/assets/colab-badge.svg\" alt=\"Open In Colab\"/></a>"
      ]
    },
    {
      "cell_type": "markdown",
      "source": [
        "kelompok3"
      ],
      "metadata": {
        "id": "CYh8mKBCmkMq"
      }
    },
    {
      "cell_type": "code",
      "execution_count": 1,
      "metadata": {
        "colab": {
          "base_uri": "https://localhost:8080/"
        },
        "id": "W4S9PSRkmaLm",
        "outputId": "9ef03f6c-6c7d-4e03-93f2-f22d954441cd"
      },
      "outputs": [
        {
          "output_type": "stream",
          "name": "stdout",
          "text": [
            "['alpi', 'rais', 'ribqi']\n"
          ]
        }
      ],
      "source": [
        "nama_acak=[\"rais\",\"alpi\",\"ribqi\"]\n",
        "nama_acak.sort()\n",
        "print(nama_acak)"
      ]
    }
  ]
}